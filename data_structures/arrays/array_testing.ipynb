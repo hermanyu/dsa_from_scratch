{
 "cells": [
  {
   "cell_type": "code",
   "execution_count": 1,
   "id": "51e6608a-582b-4c65-b1f3-35e079c48fd9",
   "metadata": {},
   "outputs": [],
   "source": [
    "from arrays import ArrayList"
   ]
  },
  {
   "cell_type": "code",
   "execution_count": 4,
   "id": "2215aea5-cf7d-49e5-b0ad-18c52208561e",
   "metadata": {},
   "outputs": [
    {
     "name": "stdout",
     "output_type": "stream",
     "text": [
      "[1, 2, 3]\n",
      "[1, 2, 3, 4]\n",
      "1\n",
      "3\n"
     ]
    }
   ],
   "source": [
    "array1 = ArrayList([1,2,3])\n",
    "\n",
    "print(array1)\n",
    "\n",
    "array1.add(4)\n",
    "\n",
    "print(array1)\n",
    "print(array1.get(0))\n",
    "print(array1.get(2))"
   ]
  },
  {
   "cell_type": "code",
   "execution_count": 5,
   "id": "046a73a0-9a4e-4eb2-8980-45ac2554f77b",
   "metadata": {},
   "outputs": [
    {
     "ename": "Exception",
     "evalue": "Exception: Index out-of-bounds.",
     "output_type": "error",
     "traceback": [
      "\u001b[1;31m---------------------------------------------------------------------------\u001b[0m",
      "\u001b[1;31mException\u001b[0m                                 Traceback (most recent call last)",
      "\u001b[1;32m~\\AppData\\Local\\Temp\\ipykernel_15524\\777562297.py\u001b[0m in \u001b[0;36m<module>\u001b[1;34m\u001b[0m\n\u001b[1;32m----> 1\u001b[1;33m \u001b[0marray1\u001b[0m\u001b[1;33m.\u001b[0m\u001b[0mget\u001b[0m\u001b[1;33m(\u001b[0m\u001b[1;36m5\u001b[0m\u001b[1;33m)\u001b[0m\u001b[1;33m\u001b[0m\u001b[1;33m\u001b[0m\u001b[0m\n\u001b[0m",
      "\u001b[1;32m~\\desktop\\workspace\\dsa_from_scratch\\data_structures\\arrays\\arrays.py\u001b[0m in \u001b[0;36mget\u001b[1;34m(self, index)\u001b[0m\n\u001b[0;32m     38\u001b[0m             \u001b[1;32mreturn\u001b[0m \u001b[0mself\u001b[0m\u001b[1;33m.\u001b[0m\u001b[0melements\u001b[0m\u001b[1;33m[\u001b[0m\u001b[0mindex\u001b[0m\u001b[1;33m]\u001b[0m\u001b[1;33m\u001b[0m\u001b[1;33m\u001b[0m\u001b[0m\n\u001b[0;32m     39\u001b[0m         \u001b[1;32melse\u001b[0m\u001b[1;33m:\u001b[0m\u001b[1;33m\u001b[0m\u001b[1;33m\u001b[0m\u001b[0m\n\u001b[1;32m---> 40\u001b[1;33m             \u001b[1;32mraise\u001b[0m \u001b[0mException\u001b[0m\u001b[1;33m(\u001b[0m\u001b[1;34m\"Exception: Index out-of-bounds.\"\u001b[0m\u001b[1;33m)\u001b[0m\u001b[1;33m\u001b[0m\u001b[1;33m\u001b[0m\u001b[0m\n\u001b[0m\u001b[0;32m     41\u001b[0m \u001b[1;33m\u001b[0m\u001b[0m\n\u001b[0;32m     42\u001b[0m     \u001b[1;31m# adds an element to the back of the array\u001b[0m\u001b[1;33m\u001b[0m\u001b[1;33m\u001b[0m\u001b[0m\n",
      "\u001b[1;31mException\u001b[0m: Exception: Index out-of-bounds."
     ]
    }
   ],
   "source": [
    "array1.get(5)"
   ]
  },
  {
   "cell_type": "code",
   "execution_count": 6,
   "id": "efa3cd6f-c681-4c4c-ba37-3563bc7adaae",
   "metadata": {},
   "outputs": [
    {
     "ename": "AttributeError",
     "evalue": "'ArrayList' object has no attribute '__is_valid_index'",
     "output_type": "error",
     "traceback": [
      "\u001b[1;31m---------------------------------------------------------------------------\u001b[0m",
      "\u001b[1;31mAttributeError\u001b[0m                            Traceback (most recent call last)",
      "\u001b[1;32m~\\AppData\\Local\\Temp\\ipykernel_15524\\245785934.py\u001b[0m in \u001b[0;36m<module>\u001b[1;34m\u001b[0m\n\u001b[1;32m----> 1\u001b[1;33m \u001b[0marray1\u001b[0m\u001b[1;33m.\u001b[0m\u001b[0m__is_valid_index\u001b[0m\u001b[1;33m(\u001b[0m\u001b[1;36m10\u001b[0m\u001b[1;33m)\u001b[0m\u001b[1;33m\u001b[0m\u001b[1;33m\u001b[0m\u001b[0m\n\u001b[0m",
      "\u001b[1;31mAttributeError\u001b[0m: 'ArrayList' object has no attribute '__is_valid_index'"
     ]
    }
   ],
   "source": [
    "array1.__is_valid_index(10)"
   ]
  },
  {
   "cell_type": "code",
   "execution_count": 7,
   "id": "d9f35d6b-b5f9-4239-bec8-e62fc2dcf96a",
   "metadata": {},
   "outputs": [
    {
     "data": {
      "text/plain": [
       "-1"
      ]
     },
     "execution_count": 7,
     "metadata": {},
     "output_type": "execute_result"
    }
   ],
   "source": [
    "array1.search(5)"
   ]
  },
  {
   "cell_type": "code",
   "execution_count": 8,
   "id": "ce0cf9f2-b442-4dbd-ad5f-75b74542be01",
   "metadata": {},
   "outputs": [
    {
     "data": {
      "text/plain": [
       "1"
      ]
     },
     "execution_count": 8,
     "metadata": {},
     "output_type": "execute_result"
    }
   ],
   "source": [
    "array1.search(2)"
   ]
  },
  {
   "cell_type": "code",
   "execution_count": 9,
   "id": "51a46b34-e6bb-4ba9-8889-32e2e9a2d532",
   "metadata": {},
   "outputs": [
    {
     "name": "stdout",
     "output_type": "stream",
     "text": [
      "[4, 3, 2, 1]\n"
     ]
    }
   ],
   "source": [
    "array2 = ArrayList([4, 3, 2, 1])\n",
    "\n",
    "print(array2)"
   ]
  },
  {
   "cell_type": "code",
   "execution_count": 10,
   "id": "3a9fbe08-2d7d-4b25-909d-f026a446fb46",
   "metadata": {},
   "outputs": [
    {
     "data": {
      "text/plain": [
       "False"
      ]
     },
     "execution_count": 10,
     "metadata": {},
     "output_type": "execute_result"
    }
   ],
   "source": [
    "array1 == array2"
   ]
  },
  {
   "cell_type": "code",
   "execution_count": 11,
   "id": "523eff48-bb5c-4209-bdf0-e86e397f0403",
   "metadata": {},
   "outputs": [
    {
     "name": "stdout",
     "output_type": "stream",
     "text": [
      "[4, 3, 2, 1]\n",
      "[4, 3, 2, 1]\n",
      "[4, 3, 2, 1]\n",
      "[4, 3, 2, 1]\n",
      "[1, 3, 2, 4]\n",
      "[1, 3, 2, 4]\n",
      "[1, 3, 2, 4]\n",
      "[1, 3, 2, 4]\n",
      "[1, 2, 3, 4]\n",
      "[1, 2, 3, 4]\n",
      "[1, 2, 3, 4]\n",
      "[1, 2, 3, 4]\n",
      "[1, 2, 3, 4]\n",
      "[1, 2, 3, 4]\n",
      "[1, 2, 3, 4]\n"
     ]
    }
   ],
   "source": [
    "array2.selection_sort(trace = True)\n",
    "\n",
    "print(array2)"
   ]
  },
  {
   "cell_type": "code",
   "execution_count": 12,
   "id": "1cf3f8c4-c20d-48fc-bff5-3e56bfd563a8",
   "metadata": {},
   "outputs": [
    {
     "data": {
      "text/plain": [
       "True"
      ]
     },
     "execution_count": 12,
     "metadata": {},
     "output_type": "execute_result"
    }
   ],
   "source": [
    "array1 == array2"
   ]
  },
  {
   "cell_type": "code",
   "execution_count": 13,
   "id": "707ce004-de2b-42a4-9a91-0e4644f9b639",
   "metadata": {},
   "outputs": [
    {
     "name": "stdout",
     "output_type": "stream",
     "text": [
      "[7, 6, 1, 2, 3, 5, 4]\n",
      "[6, 7, 1, 2, 3, 5, 4]\n",
      "[6, 7, 1, 2, 3, 5, 4]\n",
      "[6, 1, 7, 2, 3, 5, 4]\n",
      "[1, 6, 7, 2, 3, 5, 4]\n",
      "[1, 6, 7, 2, 3, 5, 4]\n",
      "[1, 6, 2, 7, 3, 5, 4]\n",
      "[1, 2, 6, 7, 3, 5, 4]\n",
      "[1, 2, 6, 7, 3, 5, 4]\n",
      "[1, 2, 6, 3, 7, 5, 4]\n",
      "[1, 2, 3, 6, 7, 5, 4]\n",
      "[1, 2, 3, 6, 7, 5, 4]\n",
      "[1, 2, 3, 6, 5, 7, 4]\n",
      "[1, 2, 3, 5, 6, 7, 4]\n",
      "[1, 2, 3, 5, 6, 7, 4]\n",
      "[1, 2, 3, 5, 6, 4, 7]\n",
      "[1, 2, 3, 5, 4, 6, 7]\n",
      "[1, 2, 3, 4, 5, 6, 7]\n",
      "[1, 2, 3, 4, 5, 6, 7]\n"
     ]
    }
   ],
   "source": [
    "array3 = ArrayList([7, 6, 1, 2, 3, 5, 4])\n",
    "\n",
    "print(array3)\n",
    "\n",
    "array3.insertion_sort(trace = True)"
   ]
  },
  {
   "cell_type": "code",
   "execution_count": 5,
   "id": "1202a9f3-533d-4f9a-94a6-f4b7979c1f6d",
   "metadata": {},
   "outputs": [
    {
     "name": "stdout",
     "output_type": "stream",
     "text": [
      "[1, 2, 3, 4, 5, 7, 6]\n",
      "[1, 2, 3, 4, 5, 6, 7]\n"
     ]
    }
   ],
   "source": [
    "array4 = ArrayList([1,2,3,4,5,7,6])\n",
    "\n",
    "print(array4)\n",
    "\n",
    "array4.insertion_sort(trace = True)"
   ]
  },
  {
   "cell_type": "code",
   "execution_count": 2,
   "id": "6b62f9a5-7d7a-46d1-93bc-ccf86d361aa9",
   "metadata": {},
   "outputs": [
    {
     "name": "stdout",
     "output_type": "stream",
     "text": [
      "[7, 6, 1, 4, 5, 3, 2, 8]\n",
      "[6, None, None, None, None, None, None, None]\n",
      "[6, 7, None, None, None, None, None, None]\n",
      "[6, 7, 1, None, None, None, None, None]\n",
      "[6, 7, 1, 4, None, None, None, None]\n",
      "[1, 7, 1, 4, None, None, None, None]\n",
      "[1, 4, 1, 4, None, None, None, None]\n",
      "[1, 4, 6, 4, None, None, None, None]\n",
      "[1, 4, 6, 7, None, None, None, None]\n",
      "[1, 4, 6, 7, 3, None, None, None]\n",
      "[1, 4, 6, 7, 3, 5, None, None]\n",
      "[1, 4, 6, 7, 3, 5, 2, None]\n",
      "[1, 4, 6, 7, 3, 5, 2, 8]\n",
      "[1, 4, 6, 7, 2, 5, 2, 8]\n",
      "[1, 4, 6, 7, 2, 3, 2, 8]\n",
      "[1, 4, 6, 7, 2, 3, 5, 8]\n",
      "[1, 4, 6, 7, 2, 3, 5, 8]\n",
      "[1, 4, 6, 7, 2, 3, 5, 8]\n",
      "[1, 2, 6, 7, 2, 3, 5, 8]\n",
      "[1, 2, 3, 7, 2, 3, 5, 8]\n",
      "[1, 2, 3, 4, 2, 3, 5, 8]\n",
      "[1, 2, 3, 4, 5, 3, 5, 8]\n",
      "[1, 2, 3, 4, 5, 6, 5, 8]\n",
      "[1, 2, 3, 4, 5, 6, 7, 8]\n",
      "[1, 2, 3, 4, 5, 6, 7, 8]\n",
      "[1, 2, 3, 4, 5, 6, 7, 8]\n"
     ]
    }
   ],
   "source": [
    "array5 = ArrayList([7, 6, 1, 4, 5, 3, 2, 8])\n",
    "\n",
    "print(array5)\n",
    "\n",
    "array5.merge_sort(trace = True)\n",
    "\n",
    "print(array5)"
   ]
  }
 ],
 "metadata": {
  "kernelspec": {
   "display_name": "Python 3 (ipykernel)",
   "language": "python",
   "name": "python3"
  },
  "language_info": {
   "codemirror_mode": {
    "name": "ipython",
    "version": 3
   },
   "file_extension": ".py",
   "mimetype": "text/x-python",
   "name": "python",
   "nbconvert_exporter": "python",
   "pygments_lexer": "ipython3",
   "version": "3.9.12"
  }
 },
 "nbformat": 4,
 "nbformat_minor": 5
}
